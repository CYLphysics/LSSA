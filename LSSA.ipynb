{
 "cells": [
  {
   "attachments": {},
   "cell_type": "markdown",
   "metadata": {},
   "source": [
    "### <font size=5px color=\"#95C7AE\"> Function definations"
   ]
  },
  {
   "cell_type": "code",
   "execution_count": 1,
   "metadata": {},
   "outputs": [],
   "source": [
    "import numpy as np\n",
    "from utilities import *\n",
    "from qiskit import IBMQ\n"
   ]
  },
  {
   "cell_type": "code",
   "execution_count": 2,
   "metadata": {},
   "outputs": [
    {
     "name": "stderr",
     "output_type": "stream",
     "text": [
      "ibmqfactory.load_account:WARNING:2023-03-31 14:33:26,277: Credentials are already in use. The existing account in the session will be replaced.\n"
     ]
    }
   ],
   "source": [
    "\n",
    "IBMQ.load_account()\n",
    "IBMQ.providers()  \n",
    "\n",
    "provider = IBMQ.get_provider(hub='ibm-q', group='open', project='main')\n",
    "\n",
    "ibmq_qasm_simulator = Aer.get_backend('qasm_simulator')#provider.get_backend('ibmq_qasm_simulator') #Aer.get_backend('qasm_simulator')\n"
   ]
  },
  {
   "attachments": {},
   "cell_type": "markdown",
   "metadata": {},
   "source": [
    "Here is an example of using LSSA to solve a fully-connected random Ising model,\n",
    "where `n_qubit` is the number of the variables of the full problem,  \n",
    "`group_size` is the size of the subsystem we would like to solve,  \n",
    "and `total_sample_time` is the coefficient $k$ of the number of the subsystems $k \\lceil N_p / N_g \\rceil$."
   ]
  },
  {
   "cell_type": "code",
   "execution_count": 3,
   "metadata": {},
   "outputs": [
    {
     "name": "stdout",
     "output_type": "stream",
     "text": [
      "stage 1\n",
      "n_qubit_ao =  2\n",
      "eval 1\n",
      "eval 2\n",
      "eval 3\n",
      "eval 4\n",
      "eval 5\n",
      "eval 6\n",
      "eval 7\n",
      "eval 8\n",
      "eval 9\n",
      "eval 10\n",
      "eval 11\n",
      "eval 12\n",
      "eval 13\n",
      "eval 14\n",
      "eval 15\n",
      "eval 16\n",
      "eval 17\n",
      "eval 18\n",
      "eval 19\n",
      "eval 20\n",
      "eval 21\n",
      "eval 22\n",
      "eval 23\n",
      "eval 24\n",
      "eval 25\n",
      "eval 26\n",
      "eval 27\n",
      "eval 28\n",
      "eval 29\n",
      "eval 30\n",
      "eval 31\n",
      "eval 32\n",
      "eval 33\n",
      "eval 34\n",
      "eval 35\n",
      "eval 36\n",
      "eval 37\n",
      "eval 38\n",
      "eval 39\n",
      "eval 40\n",
      "eval 41\n",
      "eval 42\n",
      "eval 43\n",
      "eval 44\n",
      "eval 45\n",
      "eval 46\n",
      "eval 47\n",
      "eval 48\n",
      "eval 49\n",
      "eval 50\n",
      "eval 51\n",
      "eval 52\n",
      "eval 53\n",
      "eval 54\n",
      "eval 55\n",
      "eval 56\n",
      "eval 57\n",
      "eval 58\n",
      "eval 59\n",
      "eval 60\n",
      "eval 61\n",
      "eval 62\n",
      "eval 63\n",
      "eval 64\n",
      "eval 65\n",
      "eval 66\n",
      "eval 67\n",
      "eval 68\n",
      "eval 69\n",
      "eval 70\n",
      "eval 71\n",
      "eval 72\n",
      "eval 73\n",
      "eval 74\n"
     ]
    }
   ],
   "source": [
    "n_qubit = 10\n",
    "group_size = 5\n",
    "total_sample_time = 2\n",
    "\n",
    "rand_weight = (np.random.rand( int(n_qubit*(n_qubit-1)/2) + n_qubit ) - 0.5)*2\n",
    "ham = reconstruct_ham_from_weight(rand_weight, n_qubit)\n",
    "\n",
    "result = LSSA_AOQ(ham,\n",
    "            total_sample_time = total_sample_time,\n",
    "            group_size = group_size,\n",
    "            count_method = \"abs\",\n",
    "            plot_sol_count = False,\n",
    "            solver = \"exact\" # or \"dwave-tabu\"\n",
    "            )\n",
    "\n",
    "\n"
   ]
  },
  {
   "cell_type": "code",
   "execution_count": 5,
   "metadata": {},
   "outputs": [
    {
     "name": "stdout",
     "output_type": "stream",
     "text": [
      "The approximated ground state energy of the full problem : -9.635490263238363\n",
      "The corresponding approximation ratio : 0.6891192669808031\n",
      "The solution configuration : [0, 0, 1, 1, 1, 1, 1, 0, 1, 1]\n"
     ]
    }
   ],
   "source": [
    "\n",
    "print(\"The approximated ground state energy of the full problem :\", result[0])\n",
    "print(\"The corresponding approximation ratio :\", result[1])\n",
    "print(\"The solution configuration :\", result[2])"
   ]
  },
  {
   "cell_type": "code",
   "execution_count": null,
   "metadata": {},
   "outputs": [],
   "source": []
  }
 ],
 "metadata": {
  "kernelspec": {
   "display_name": "Python 3",
   "language": "python",
   "name": "python3"
  },
  "language_info": {
   "codemirror_mode": {
    "name": "ipython",
    "version": 3
   },
   "file_extension": ".py",
   "mimetype": "text/x-python",
   "name": "python",
   "nbconvert_exporter": "python",
   "pygments_lexer": "ipython3",
   "version": "3.8.12"
  },
  "orig_nbformat": 4
 },
 "nbformat": 4,
 "nbformat_minor": 2
}
